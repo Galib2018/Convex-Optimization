{
 "cells": [
  {
   "cell_type": "markdown",
   "metadata": {},
   "source": [
    "SOCP progrming"
   ]
  },
  {
   "cell_type": "code",
   "execution_count": 1,
   "metadata": {},
   "outputs": [],
   "source": [
    "from cvxopt import matrix, solvers "
   ]
  },
  {
   "cell_type": "code",
   "execution_count": 2,
   "metadata": {},
   "outputs": [],
   "source": [
    "f = matrix([-2.0, 1.0, 5.0])\n",
    "G = [matrix([[12.0, 13.0, 12.0],[6.0, -3.0, -12.0],[-5.0, -5.0, 6.0]]), matrix([[3.0,3.0,-1.0,1.0],[-6.0,-6.0,-9.0,19.0],[10.0,-2.0,-2.0,-3.0]])]\n",
    "h = [matrix([-12.0,-3.0,-2.0]), matrix([27.0,0.0,3.0,-42])]"
   ]
  },
  {
   "cell_type": "code",
   "execution_count": 3,
   "metadata": {},
   "outputs": [
    {
     "name": "stdout",
     "output_type": "stream",
     "text": [
      "     pcost       dcost       gap    pres   dres   k/t\n",
      " 0:  4.9969e+00 -1.7285e+01  6e+01  3e-01  4e+00  1e+00\n",
      " 1: -1.6732e+00 -7.0431e+00  1e+01  7e-02  1e+00  6e-01\n",
      " 2: -1.6221e+01 -3.5417e+01  2e+02  3e-01  5e+00  7e+00\n",
      " 3: -2.1832e+01 -2.2849e+01  3e+01  4e-02  6e-01  2e+00\n",
      " 4: -3.5265e+01 -3.5594e+01  1e+01  1e-02  2e-01  9e-01\n",
      " 5: -3.8303e+01 -3.8314e+01  3e-01  4e-04  6e-03  2e-02\n",
      " 6: -3.8342e+01 -3.8342e+01  1e-02  1e-05  2e-04  7e-04\n",
      " 7: -3.8346e+01 -3.8346e+01  9e-04  1e-06  2e-05  7e-05\n",
      " 8: -3.8346e+01 -3.8346e+01  4e-05  6e-08  9e-07  4e-06\n",
      " 9: -3.8346e+01 -3.8346e+01  2e-06  3e-09  4e-08  2e-07\n",
      "Optimal solution found.\n"
     ]
    }
   ],
   "source": [
    "sol = solvers.socp(f, Gq=G, hq=h)"
   ]
  },
  {
   "cell_type": "code",
   "execution_count": 4,
   "metadata": {},
   "outputs": [
    {
     "name": "stdout",
     "output_type": "stream",
     "text": [
      "[-5.01e+00]\n",
      "[-5.77e+00]\n",
      "[-8.52e+00]\n",
      "\n"
     ]
    }
   ],
   "source": [
    "print(sol['x'])"
   ]
  },
  {
   "cell_type": "markdown",
   "metadata": {},
   "source": [
    "--------- QCQP ------------"
   ]
  },
  {
   "cell_type": "code",
   "execution_count": 6,
   "metadata": {},
   "outputs": [],
   "source": [
    "from scipy.linalg import sqrtm"
   ]
  },
  {
   "cell_type": "code",
   "execution_count": 7,
   "metadata": {},
   "outputs": [
    {
     "name": "stdout",
     "output_type": "stream",
     "text": [
      "[ 5  3]\n",
      "[ 3  4]\n",
      "\n"
     ]
    }
   ],
   "source": [
    "#-----exapmle---- \n",
    "P = matrix([[5,3], [3,4]])\n",
    "print(P)\n",
    "\n"
   ]
  },
  {
   "cell_type": "code",
   "execution_count": 8,
   "metadata": {},
   "outputs": [
    {
     "name": "stdout",
     "output_type": "stream",
     "text": [
      "[[2.10340295 0.75874637]\n",
      " [0.75874637 1.85048749]]\n"
     ]
    }
   ],
   "source": [
    "# (1) we need to convert P =A^{T}A\n",
    "A = sqrtm(P)\n",
    "print(A)"
   ]
  },
  {
   "cell_type": "code",
   "execution_count": 9,
   "metadata": {},
   "outputs": [
    {
     "data": {
      "text/plain": [
       "array([[5., 3.],\n",
       "       [3., 4.]])"
      ]
     },
     "execution_count": 9,
     "metadata": {},
     "output_type": "execute_result"
    }
   ],
   "source": [
    "import numpy as np\n",
    "# to cheeck whether A^{T}A gives P\n",
    "np.matmul(A.T,A)"
   ]
  },
  {
   "cell_type": "code",
   "execution_count": 10,
   "metadata": {},
   "outputs": [
    {
     "name": "stdout",
     "output_type": "stream",
     "text": [
      "[[-0.06418447]\n",
      " [ 0.83691446]]\n"
     ]
    }
   ],
   "source": [
    "# (2) we need to convert 2A^{T}b from q (given)\n",
    "# -----------Example ----\n",
    "q = matrix([1,3])\n",
    "b = 0.5*np.matmul(np.linalg.inv(A.T),q)\n",
    "print(b)"
   ]
  },
  {
   "cell_type": "code",
   "execution_count": null,
   "metadata": {},
   "outputs": [],
   "source": []
  }
 ],
 "metadata": {
  "kernelspec": {
   "display_name": "Python 3",
   "language": "python",
   "name": "python3"
  },
  "language_info": {
   "codemirror_mode": {
    "name": "ipython",
    "version": 3
   },
   "file_extension": ".py",
   "mimetype": "text/x-python",
   "name": "python",
   "nbconvert_exporter": "python",
   "pygments_lexer": "ipython3",
   "version": "3.7.6"
  }
 },
 "nbformat": 4,
 "nbformat_minor": 4
}
